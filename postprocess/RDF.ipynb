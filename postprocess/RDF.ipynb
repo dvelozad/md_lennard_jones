{
 "cells": [
  {
   "cell_type": "code",
   "execution_count": 1,
   "metadata": {},
   "outputs": [],
   "source": [
    "import numpy as np\n",
    "import pandas as pd\n",
    "import matplotlib.pyplot as plt\n",
    "from itertools import combinations\n",
    "import math"
   ]
  },
  {
   "cell_type": "code",
   "execution_count": 2,
   "metadata": {},
   "outputs": [],
   "source": [
    "\n",
    "def compute_periodic_distance(p1, p2, box_size):\n",
    "    dx = p1[:, None, 0] - p2[None, :, 0]\n",
    "    dy = p1[:, None, 1] - p2[None, :, 1]\n",
    "    dz = p1[:, None, 2] - p2[None, :, 2]\n",
    "\n",
    "    # Apply periodic boundary conditions\n",
    "    dx -= box_size[0] * np.round(dx / box_size[0])\n",
    "    dy -= box_size[1] * np.round(dy / box_size[1])\n",
    "    dz -= box_size[2] * np.round(dz / box_size[2])\n",
    "\n",
    "    return np.sqrt(dx**2 + dy**2 + dz**2)\n",
    "\n",
    "def compute_rdf(data, max_distance, num_bins, box_size, output_filename):\n",
    "    bins = np.zeros(num_bins)\n",
    "    bin_size = max_distance / num_bins\n",
    "\n",
    "    number_particles = len(data['particle'].unique())\n",
    "    timeList = data['time'].unique()\n",
    "    timeSteps = len(timeList)\n",
    "\n",
    "    for time in timeList:\n",
    "        current_data = data[data['time'] == time]\n",
    "        particles = current_data[['x', 'y', 'z']].to_numpy()\n",
    "\n",
    "        # Compute pairwise distances with periodic boundary conditions\n",
    "        distances = compute_periodic_distance(particles, particles, box_size)\n",
    "        np.fill_diagonal(distances, np.inf)\n",
    "\n",
    "        # Flatten and filter distances\n",
    "        valid_distances = distances[distances < max_distance]\n",
    "\n",
    "        # Histogram the distances\n",
    "        hist, _ = np.histogram(valid_distances, bins=num_bins, range=(0, max_distance))\n",
    "        bins += hist\n",
    "\n",
    "    # Normalize RDF\n",
    "    density = number_particles / np.prod(box_size)\n",
    "    rdf = np.zeros(num_bins)\n",
    "    for i in range(num_bins):\n",
    "        r1 = i * bin_size\n",
    "        r2 = r1 + bin_size\n",
    "        shell_volume = (4.0 / 3.0) * math.pi * (r2**3 - r1**3)\n",
    "        rdf[i] = (bins[i]) / (shell_volume * density * timeSteps * number_particles)\n",
    "\n",
    "    # Write RDF to file\n",
    "    with open(output_filename, 'w') as file:\n",
    "        for i in range(num_bins):\n",
    "            r = (i * bin_size + (i + 1) * bin_size) / 2\n",
    "            file.write(f\"{r}\\t{rdf[i]}\\n\")\n"
   ]
  },
  {
   "cell_type": "markdown",
   "metadata": {},
   "source": [
    "# Load info"
   ]
  },
  {
   "cell_type": "code",
   "execution_count": 3,
   "metadata": {},
   "outputs": [],
   "source": [
    "label = 'example_2'"
   ]
  },
  {
   "cell_type": "code",
   "execution_count": 8,
   "metadata": {},
   "outputs": [],
   "source": [
    "data = pd.read_csv('../output_files/positions_data.txt', sep=' ', names=['particle', 'time', 'x', 'y', 'z'])\n",
    "compute_rdf(data, max_distance=10, num_bins=200, box_size=[10,10,10], output_filename=f'../output_files/rdf_results_{label}.txt')\n",
    "rdf = pd.read_csv(f'../output_files/rdf_results_{label}.txt', sep='\\t', names=['bin', 'value'])"
   ]
  },
  {
   "cell_type": "code",
   "execution_count": 9,
   "metadata": {},
   "outputs": [
    {
     "data": {
      "image/png": "[encoded data removed]",
      "text/plain": [
       "<Figure size 1000x500 with 1 Axes>"
      ]
     },
     "metadata": {},
     "output_type": "display_data"
    }
   ],
   "source": [
    "plt.figure(figsize=(10, 5))  \n",
    "\n",
    "plt.xlabel('r')\n",
    "plt.ylabel('RDF')\n",
    "\n",
    "plt.bar(rdf['bin'], rdf['value'], width=1) \n",
    "plt.grid()"
   ]
  },
  {
   "cell_type": "code",
   "execution_count": 106,
   "metadata": {},
   "outputs": [
    {
     "data": {
      "text/plain": [
       "54.772255750516614"
      ]
     },
     "execution_count": 106,
     "metadata": {},
     "output_type": "execute_result"
    }
   ],
   "source": [
    "np.sqrt(3*(10)**3)"
   ]
  }
 ],
 "metadata": {
  "kernelspec": {
   "display_name": "base",
   "language": "python",
   "name": "python3"
  },
  "language_info": {
   "codemirror_mode": {
    "name": "ipython",
    "version": 3
   },
   "file_extension": ".py",
   "mimetype": "text/x-python",
   "name": "python",
   "nbconvert_exporter": "python",
   "pygments_lexer": "ipython3",
   "version": "3.12.0"
  }
 },
 "nbformat": 4,
 "nbformat_minor": 2
}
